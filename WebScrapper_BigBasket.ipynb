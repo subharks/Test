{
  "nbformat": 4,
  "nbformat_minor": 0,
  "metadata": {
    "colab": {
      "name": "WebScrapper_BigBasket.ipynb",
      "provenance": [],
      "mount_file_id": "1vl58ABZ8sIPjmWVgHnZ9lBOYGwfgun4P",
      "authorship_tag": "ABX9TyMoU6J6B2beHOvLcLvw5GE3",
      "include_colab_link": true
    },
    "kernelspec": {
      "name": "python3",
      "display_name": "Python 3"
    },
    "language_info": {
      "name": "python"
    }
  },
  "cells": [
    {
      "cell_type": "markdown",
      "metadata": {
        "id": "view-in-github",
        "colab_type": "text"
      },
      "source": [
        "<a href=\"https://colab.research.google.com/github/subharks/Test/blob/main/WebScrapper_BigBasket.ipynb\" target=\"_parent\"><img src=\"https://colab.research.google.com/assets/colab-badge.svg\" alt=\"Open In Colab\"/></a>"
      ]
    },
    {
      "cell_type": "markdown",
      "metadata": {
        "id": "xCj8a2vuTMtR"
      },
      "source": [
        "# Code to Extract data from Big Basket"
      ]
    },
    {
      "cell_type": "markdown",
      "metadata": {
        "id": "baMrMyGa7vyR"
      },
      "source": [
        "***Prerequisites***"
      ]
    },
    {
      "cell_type": "code",
      "metadata": {
        "colab": {
          "base_uri": "https://localhost:8080/"
        },
        "id": "UB_VncAT7ObP",
        "outputId": "e2e61e8e-deea-4973-8a70-04c813695d4b"
      },
      "source": [
        "!pip install selenium\n",
        "!apt-get update \n",
        "!apt install chromium-chromedriver"
      ],
      "execution_count": 1,
      "outputs": [
        {
          "output_type": "stream",
          "text": [
            "Collecting selenium\n",
            "  Downloading selenium-3.141.0-py2.py3-none-any.whl (904 kB)\n",
            "\u001b[?25l\r\u001b[K     |▍                               | 10 kB 20.0 MB/s eta 0:00:01\r\u001b[K     |▊                               | 20 kB 13.1 MB/s eta 0:00:01\r\u001b[K     |█                               | 30 kB 10.2 MB/s eta 0:00:01\r\u001b[K     |█▌                              | 40 kB 8.6 MB/s eta 0:00:01\r\u001b[K     |█▉                              | 51 kB 5.2 MB/s eta 0:00:01\r\u001b[K     |██▏                             | 61 kB 5.7 MB/s eta 0:00:01\r\u001b[K     |██▌                             | 71 kB 5.8 MB/s eta 0:00:01\r\u001b[K     |███                             | 81 kB 6.3 MB/s eta 0:00:01\r\u001b[K     |███▎                            | 92 kB 6.0 MB/s eta 0:00:01\r\u001b[K     |███▋                            | 102 kB 5.0 MB/s eta 0:00:01\r\u001b[K     |████                            | 112 kB 5.0 MB/s eta 0:00:01\r\u001b[K     |████▍                           | 122 kB 5.0 MB/s eta 0:00:01\r\u001b[K     |████▊                           | 133 kB 5.0 MB/s eta 0:00:01\r\u001b[K     |█████                           | 143 kB 5.0 MB/s eta 0:00:01\r\u001b[K     |█████▍                          | 153 kB 5.0 MB/s eta 0:00:01\r\u001b[K     |█████▉                          | 163 kB 5.0 MB/s eta 0:00:01\r\u001b[K     |██████▏                         | 174 kB 5.0 MB/s eta 0:00:01\r\u001b[K     |██████▌                         | 184 kB 5.0 MB/s eta 0:00:01\r\u001b[K     |██████▉                         | 194 kB 5.0 MB/s eta 0:00:01\r\u001b[K     |███████▎                        | 204 kB 5.0 MB/s eta 0:00:01\r\u001b[K     |███████▋                        | 215 kB 5.0 MB/s eta 0:00:01\r\u001b[K     |████████                        | 225 kB 5.0 MB/s eta 0:00:01\r\u001b[K     |████████▎                       | 235 kB 5.0 MB/s eta 0:00:01\r\u001b[K     |████████▊                       | 245 kB 5.0 MB/s eta 0:00:01\r\u001b[K     |█████████                       | 256 kB 5.0 MB/s eta 0:00:01\r\u001b[K     |█████████▍                      | 266 kB 5.0 MB/s eta 0:00:01\r\u001b[K     |█████████▉                      | 276 kB 5.0 MB/s eta 0:00:01\r\u001b[K     |██████████▏                     | 286 kB 5.0 MB/s eta 0:00:01\r\u001b[K     |██████████▌                     | 296 kB 5.0 MB/s eta 0:00:01\r\u001b[K     |██████████▉                     | 307 kB 5.0 MB/s eta 0:00:01\r\u001b[K     |███████████▎                    | 317 kB 5.0 MB/s eta 0:00:01\r\u001b[K     |███████████▋                    | 327 kB 5.0 MB/s eta 0:00:01\r\u001b[K     |████████████                    | 337 kB 5.0 MB/s eta 0:00:01\r\u001b[K     |████████████▎                   | 348 kB 5.0 MB/s eta 0:00:01\r\u001b[K     |████████████▊                   | 358 kB 5.0 MB/s eta 0:00:01\r\u001b[K     |█████████████                   | 368 kB 5.0 MB/s eta 0:00:01\r\u001b[K     |█████████████▍                  | 378 kB 5.0 MB/s eta 0:00:01\r\u001b[K     |█████████████▊                  | 389 kB 5.0 MB/s eta 0:00:01\r\u001b[K     |██████████████▏                 | 399 kB 5.0 MB/s eta 0:00:01\r\u001b[K     |██████████████▌                 | 409 kB 5.0 MB/s eta 0:00:01\r\u001b[K     |██████████████▉                 | 419 kB 5.0 MB/s eta 0:00:01\r\u001b[K     |███████████████▏                | 430 kB 5.0 MB/s eta 0:00:01\r\u001b[K     |███████████████▋                | 440 kB 5.0 MB/s eta 0:00:01\r\u001b[K     |████████████████                | 450 kB 5.0 MB/s eta 0:00:01\r\u001b[K     |████████████████▎               | 460 kB 5.0 MB/s eta 0:00:01\r\u001b[K     |████████████████▋               | 471 kB 5.0 MB/s eta 0:00:01\r\u001b[K     |█████████████████               | 481 kB 5.0 MB/s eta 0:00:01\r\u001b[K     |█████████████████▍              | 491 kB 5.0 MB/s eta 0:00:01\r\u001b[K     |█████████████████▊              | 501 kB 5.0 MB/s eta 0:00:01\r\u001b[K     |██████████████████▏             | 512 kB 5.0 MB/s eta 0:00:01\r\u001b[K     |██████████████████▌             | 522 kB 5.0 MB/s eta 0:00:01\r\u001b[K     |██████████████████▉             | 532 kB 5.0 MB/s eta 0:00:01\r\u001b[K     |███████████████████▏            | 542 kB 5.0 MB/s eta 0:00:01\r\u001b[K     |███████████████████▋            | 552 kB 5.0 MB/s eta 0:00:01\r\u001b[K     |████████████████████            | 563 kB 5.0 MB/s eta 0:00:01\r\u001b[K     |████████████████████▎           | 573 kB 5.0 MB/s eta 0:00:01\r\u001b[K     |████████████████████▋           | 583 kB 5.0 MB/s eta 0:00:01\r\u001b[K     |█████████████████████           | 593 kB 5.0 MB/s eta 0:00:01\r\u001b[K     |█████████████████████▍          | 604 kB 5.0 MB/s eta 0:00:01\r\u001b[K     |█████████████████████▊          | 614 kB 5.0 MB/s eta 0:00:01\r\u001b[K     |██████████████████████          | 624 kB 5.0 MB/s eta 0:00:01\r\u001b[K     |██████████████████████▌         | 634 kB 5.0 MB/s eta 0:00:01\r\u001b[K     |██████████████████████▉         | 645 kB 5.0 MB/s eta 0:00:01\r\u001b[K     |███████████████████████▏        | 655 kB 5.0 MB/s eta 0:00:01\r\u001b[K     |███████████████████████▌        | 665 kB 5.0 MB/s eta 0:00:01\r\u001b[K     |████████████████████████        | 675 kB 5.0 MB/s eta 0:00:01\r\u001b[K     |████████████████████████▎       | 686 kB 5.0 MB/s eta 0:00:01\r\u001b[K     |████████████████████████▋       | 696 kB 5.0 MB/s eta 0:00:01\r\u001b[K     |█████████████████████████       | 706 kB 5.0 MB/s eta 0:00:01\r\u001b[K     |█████████████████████████▍      | 716 kB 5.0 MB/s eta 0:00:01\r\u001b[K     |█████████████████████████▊      | 727 kB 5.0 MB/s eta 0:00:01\r\u001b[K     |██████████████████████████      | 737 kB 5.0 MB/s eta 0:00:01\r\u001b[K     |██████████████████████████▍     | 747 kB 5.0 MB/s eta 0:00:01\r\u001b[K     |██████████████████████████▉     | 757 kB 5.0 MB/s eta 0:00:01\r\u001b[K     |███████████████████████████▏    | 768 kB 5.0 MB/s eta 0:00:01\r\u001b[K     |███████████████████████████▌    | 778 kB 5.0 MB/s eta 0:00:01\r\u001b[K     |████████████████████████████    | 788 kB 5.0 MB/s eta 0:00:01\r\u001b[K     |████████████████████████████▎   | 798 kB 5.0 MB/s eta 0:00:01\r\u001b[K     |████████████████████████████▋   | 808 kB 5.0 MB/s eta 0:00:01\r\u001b[K     |█████████████████████████████   | 819 kB 5.0 MB/s eta 0:00:01\r\u001b[K     |█████████████████████████████▍  | 829 kB 5.0 MB/s eta 0:00:01\r\u001b[K     |█████████████████████████████▊  | 839 kB 5.0 MB/s eta 0:00:01\r\u001b[K     |██████████████████████████████  | 849 kB 5.0 MB/s eta 0:00:01\r\u001b[K     |██████████████████████████████▍ | 860 kB 5.0 MB/s eta 0:00:01\r\u001b[K     |██████████████████████████████▉ | 870 kB 5.0 MB/s eta 0:00:01\r\u001b[K     |███████████████████████████████▏| 880 kB 5.0 MB/s eta 0:00:01\r\u001b[K     |███████████████████████████████▌| 890 kB 5.0 MB/s eta 0:00:01\r\u001b[K     |███████████████████████████████▉| 901 kB 5.0 MB/s eta 0:00:01\r\u001b[K     |████████████████████████████████| 904 kB 5.0 MB/s \n",
            "\u001b[?25hRequirement already satisfied: urllib3 in /usr/local/lib/python3.7/dist-packages (from selenium) (1.24.3)\n",
            "Installing collected packages: selenium\n",
            "Successfully installed selenium-3.141.0\n",
            "Get:1 http://security.ubuntu.com/ubuntu bionic-security InRelease [88.7 kB]\n",
            "Get:2 https://cloud.r-project.org/bin/linux/ubuntu bionic-cran40/ InRelease [3,626 B]\n",
            "Ign:3 https://developer.download.nvidia.com/compute/cuda/repos/ubuntu1804/x86_64  InRelease\n",
            "Hit:4 http://ppa.launchpad.net/c2d4u.team/c2d4u4.0+/ubuntu bionic InRelease\n",
            "Ign:5 https://developer.download.nvidia.com/compute/machine-learning/repos/ubuntu1804/x86_64  InRelease\n",
            "Hit:6 https://developer.download.nvidia.com/compute/cuda/repos/ubuntu1804/x86_64  Release\n",
            "Hit:7 http://archive.ubuntu.com/ubuntu bionic InRelease\n",
            "Hit:8 https://developer.download.nvidia.com/compute/machine-learning/repos/ubuntu1804/x86_64  Release\n",
            "Get:9 http://archive.ubuntu.com/ubuntu bionic-updates InRelease [88.7 kB]\n",
            "Hit:10 http://ppa.launchpad.net/cran/libgit2/ubuntu bionic InRelease\n",
            "Get:11 https://cloud.r-project.org/bin/linux/ubuntu bionic-cran40/ Packages [66.6 kB]\n",
            "Hit:12 http://ppa.launchpad.net/deadsnakes/ppa/ubuntu bionic InRelease\n",
            "Get:13 http://archive.ubuntu.com/ubuntu bionic-backports InRelease [74.6 kB]\n",
            "Get:14 http://security.ubuntu.com/ubuntu bionic-security/universe amd64 Packages [1,426 kB]\n",
            "Get:15 http://ppa.launchpad.net/graphics-drivers/ppa/ubuntu bionic InRelease [21.3 kB]\n",
            "Get:16 http://security.ubuntu.com/ubuntu bionic-security/main amd64 Packages [2,294 kB]\n",
            "Get:19 http://archive.ubuntu.com/ubuntu bionic-updates/main amd64 Packages [2,730 kB]\n",
            "Get:20 http://archive.ubuntu.com/ubuntu bionic-updates/universe amd64 Packages [2,199 kB]\n",
            "Get:21 http://ppa.launchpad.net/graphics-drivers/ppa/ubuntu bionic/main amd64 Packages [41.6 kB]\n",
            "Fetched 9,034 kB in 3s (2,651 kB/s)\n",
            "Reading package lists... Done\n",
            "Reading package lists... Done\n",
            "Building dependency tree       \n",
            "Reading state information... Done\n",
            "The following package was automatically installed and is no longer required:\n",
            "  libnvidia-common-460\n",
            "Use 'apt autoremove' to remove it.\n",
            "The following additional packages will be installed:\n",
            "  chromium-browser chromium-browser-l10n chromium-codecs-ffmpeg-extra\n",
            "Suggested packages:\n",
            "  webaccounts-chromium-extension unity-chromium-extension\n",
            "The following NEW packages will be installed:\n",
            "  chromium-browser chromium-browser-l10n chromium-chromedriver\n",
            "  chromium-codecs-ffmpeg-extra\n",
            "0 upgraded, 4 newly installed, 0 to remove and 57 not upgraded.\n",
            "Need to get 91.8 MB of archives.\n",
            "After this operation, 315 MB of additional disk space will be used.\n",
            "Get:1 http://archive.ubuntu.com/ubuntu bionic-updates/universe amd64 chromium-codecs-ffmpeg-extra amd64 92.0.4515.159-0ubuntu0.18.04.1 [1,124 kB]\n",
            "Get:2 http://archive.ubuntu.com/ubuntu bionic-updates/universe amd64 chromium-browser amd64 92.0.4515.159-0ubuntu0.18.04.1 [81.7 MB]\n",
            "Get:3 http://archive.ubuntu.com/ubuntu bionic-updates/universe amd64 chromium-browser-l10n all 92.0.4515.159-0ubuntu0.18.04.1 [4,026 kB]\n",
            "Get:4 http://archive.ubuntu.com/ubuntu bionic-updates/universe amd64 chromium-chromedriver amd64 92.0.4515.159-0ubuntu0.18.04.1 [4,902 kB]\n",
            "Fetched 91.8 MB in 4s (22.9 MB/s)\n",
            "Selecting previously unselected package chromium-codecs-ffmpeg-extra.\n",
            "(Reading database ... 148489 files and directories currently installed.)\n",
            "Preparing to unpack .../chromium-codecs-ffmpeg-extra_92.0.4515.159-0ubuntu0.18.04.1_amd64.deb ...\n",
            "Unpacking chromium-codecs-ffmpeg-extra (92.0.4515.159-0ubuntu0.18.04.1) ...\n",
            "Selecting previously unselected package chromium-browser.\n",
            "Preparing to unpack .../chromium-browser_92.0.4515.159-0ubuntu0.18.04.1_amd64.deb ...\n",
            "Unpacking chromium-browser (92.0.4515.159-0ubuntu0.18.04.1) ...\n",
            "Selecting previously unselected package chromium-browser-l10n.\n",
            "Preparing to unpack .../chromium-browser-l10n_92.0.4515.159-0ubuntu0.18.04.1_all.deb ...\n",
            "Unpacking chromium-browser-l10n (92.0.4515.159-0ubuntu0.18.04.1) ...\n",
            "Selecting previously unselected package chromium-chromedriver.\n",
            "Preparing to unpack .../chromium-chromedriver_92.0.4515.159-0ubuntu0.18.04.1_amd64.deb ...\n",
            "Unpacking chromium-chromedriver (92.0.4515.159-0ubuntu0.18.04.1) ...\n",
            "Setting up chromium-codecs-ffmpeg-extra (92.0.4515.159-0ubuntu0.18.04.1) ...\n",
            "Setting up chromium-browser (92.0.4515.159-0ubuntu0.18.04.1) ...\n",
            "update-alternatives: using /usr/bin/chromium-browser to provide /usr/bin/x-www-browser (x-www-browser) in auto mode\n",
            "update-alternatives: using /usr/bin/chromium-browser to provide /usr/bin/gnome-www-browser (gnome-www-browser) in auto mode\n",
            "Setting up chromium-chromedriver (92.0.4515.159-0ubuntu0.18.04.1) ...\n",
            "Setting up chromium-browser-l10n (92.0.4515.159-0ubuntu0.18.04.1) ...\n",
            "Processing triggers for man-db (2.8.3-2ubuntu0.1) ...\n",
            "Processing triggers for hicolor-icon-theme (0.17-2) ...\n",
            "Processing triggers for mime-support (3.60ubuntu1) ...\n",
            "Processing triggers for libc-bin (2.27-3ubuntu1.2) ...\n",
            "/sbin/ldconfig.real: /usr/local/lib/python3.7/dist-packages/ideep4py/lib/libmkldnn.so.0 is not a symbolic link\n",
            "\n"
          ],
          "name": "stdout"
        }
      ]
    },
    {
      "cell_type": "markdown",
      "metadata": {
        "id": "F8KrydoV787e"
      },
      "source": [
        "***Code to extract Data from Seller***"
      ]
    },
    {
      "cell_type": "code",
      "metadata": {
        "id": "yyhcvzB87XOn"
      },
      "source": [
        "from bs4 import BeautifulSoup\n",
        "from selenium.webdriver.common.keys import Keys \n",
        "import time\n",
        "import csv\n",
        "from datetime import date\n",
        " \n",
        "# Generate URL based on Search Item\n",
        "def get_url(search_term):\n",
        "  ## Generate URL based on Search Item\n",
        "  template=\"https://www.bigbasket.com/cl/{}/?nc=nb\"\n",
        "  search_term=search_term.replace(' ','+')\n",
        " \n",
        "  # add Seacrh term to URL\n",
        "  url= template.format(search_term)\n",
        " \n",
        "  # Append Page No\n",
        " # url += \"#!page={}\"\n",
        " \n",
        "  return url\n",
        " \n",
        "# Method to scroll the page till the end\n",
        "def scroll_to_bottom(driver):\n",
        "    SCROLL_PAUSE_TIME = 5\n",
        "    # Get scroll height\n",
        "    last_height = driver.execute_script(\"return document.body.scrollHeight\")\n",
        " \n",
        "    while True:\n",
        "        # Scroll down to bottom\n",
        "        driver.execute_script(\"window.scrollTo(0, document.body.scrollHeight);\")\n",
        " \n",
        "        # Wait to load page\n",
        "        time.sleep(SCROLL_PAUSE_TIME)\n",
        " \n",
        "        # Calculate new scroll height and compare with last scroll height\n",
        "        new_height = driver.execute_script(\"return document.body.scrollHeight\")\n",
        "        if new_height == last_height:\n",
        "            break\n",
        "        last_height = new_height\n",
        " \n",
        "# Extract details of a given product\n",
        "def extract_record(product):\n",
        "  \n",
        "  # Product Name\n",
        "  try:\n",
        "    productParentNode=product.find(\"div\",{\"qa\":\"product_name\"})\n",
        "    productName=productParentNode.a.text \n",
        "  except:\n",
        "    productName=\"Missing\"\n",
        "    # grab the price \n",
        " \n",
        "  # Product Price\n",
        "  try:\n",
        "    priceParentNode=product.find(\"div\",{\"qa\":\"price\"})\n",
        "    price=priceParentNode.find(\"span\",{\"class\",\"discnt-price\"}).span.text.strip()\n",
        "  except:\n",
        "    price=0\n",
        " \n",
        "  # Grab the Quantity \n",
        "  try:\n",
        "    quantityParentNode=product.find('div','qnty-selection')\n",
        "    quantityParentNodeBtn=quantityParentNode.button\n",
        "    if quantityParentNodeBtn is None:\n",
        "      quantity=quantityParentNode.find(\"span\",{\"ng-bind\":\"vm.selectedProduct.w\"}).text.strip()\n",
        "     # pricePerQuantity=0\n",
        "    else:\n",
        "      quantity=quantityParentNode.find(\"span\",{\"ng-bind\":\"product.w\"}).text.strip()\n",
        "      #pricePerQuantity=quantityParentNode.find(\"span\",{\"ng-bind\":\"product.sp\"}).text.strip()\n",
        "  except:\n",
        "      quantity='Missing'\n",
        " \n",
        " \n",
        "  today = date.today()\n",
        "  date_published = today.strftime(\"%Y-%m-%d\")\n",
        "  result = (date_published,productName, quantity,price)\n",
        "  return result\n",
        " \n",
        " \n",
        "def generate_filename(filenm):\n",
        "    today=date.today()\n",
        "    timestamp = today.strftime(\"%Y%m%d\")\n",
        "    filename = filenm + '_' + timestamp + '.csv'\n",
        "  #  filename=\"/content/drive/MyDrive/ML_Data/BigBasket/\" +  filenm + '_' + timestamp + '.csv'\n",
        "    return filename\n",
        "\n",
        " \n",
        "\n",
        "# Method to set properties of chrome driver\n",
        "#The Chromeoptions Class is a concept in Selenium WebDriver for manipulating various properties of the Chrome driver.\n",
        "def create_web_driver():\n",
        "  from selenium import webdriver\n",
        "  chrome_options = webdriver.ChromeOptions()\n",
        "  chrome_options.add_argument('--headless')\n",
        "  chrome_options.add_argument('--no-sandbox')\n",
        "  chrome_options.add_argument(\"user-agent=xxx\")\n",
        "  chrome_options.add_argument('--disable-dev-shm-usage')\n",
        "  driver = webdriver.Chrome('chromedriver',chrome_options=chrome_options)\n",
        "  return driver\n",
        " \n",
        " \n",
        "#fruits-vegetables\n",
        "def main(search_term):\n",
        "  \"\"\"Run main Program Routine\"\"\" \n",
        "  filename = generate_filename(search_term)\n",
        "  records=[]\n",
        " \n",
        "  #driver = webdriver.Chrome('chromedriver',chrome_options=chrome_options)\n",
        "  driver=create_web_driver()\n",
        "  #url=get_url(search_term)\n",
        "  url=\"https://www.bigbasket.com/cl/fruits-vegetables/?nc=nb\"\n",
        "  #time.sleep(10)\n",
        "  driver.get(url)\n",
        "  scroll_to_bottom(driver)\n",
        "  page_soup=BeautifulSoup(driver.page_source,\"html.parser\")\n",
        "  time.sleep(10)\n",
        "\n",
        "   # Extract all the products\n",
        "  products=page_soup.find_all(\"div\",{\"qa\":\"product\"})\n",
        "      \n",
        "  print(\"products=\",len(products))\n",
        "  for product in products:\n",
        "    record=extract_record(product)\n",
        "    if record:\n",
        "      records.append(record)\n",
        "  driver.close()  \n",
        " \n",
        "  with open(generate_filename(\"BigBasket\"), 'w', newline='', encoding='utf-8') as f:\n",
        "     writer = csv.writer(f)\n",
        "     writer.writerow([\"Date\",\"Product Description\", \"Quantity\", \"Price\"])\n",
        "     writer.writerows(records)"
      ],
      "execution_count": 15,
      "outputs": []
    },
    {
      "cell_type": "markdown",
      "metadata": {
        "id": "PcQ9bLOa7aF4"
      },
      "source": [
        "Main code to call"
      ]
    },
    {
      "cell_type": "code",
      "metadata": {
        "colab": {
          "base_uri": "https://localhost:8080/"
        },
        "id": "7nH1co0I8JDu",
        "outputId": "8024ab66-34ec-4139-fb1c-bda5d60a2295"
      },
      "source": [
        "\n",
        "#driver.close()\n",
        "records=main(\"fruits-vegetables\")"
      ],
      "execution_count": 16,
      "outputs": [
        {
          "output_type": "stream",
          "text": [
            "/usr/local/lib/python3.7/dist-packages/ipykernel_launcher.py:96: DeprecationWarning: use options instead of chrome_options\n"
          ],
          "name": "stderr"
        },
        {
          "output_type": "stream",
          "text": [
            "products= 192\n"
          ],
          "name": "stdout"
        }
      ]
    }
  ]
}